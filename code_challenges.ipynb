{
 "cells": [
  {
   "cell_type": "code",
   "execution_count": 1,
   "id": "195fe6f6",
   "metadata": {},
   "outputs": [
    {
     "name": "stdout",
     "output_type": "stream",
     "text": [
      "8\n"
     ]
    }
   ],
   "source": [
    "def addition(a, b):\n",
    "\treturn a + b\n",
    "\n",
    "result = addition(5, 3)\n",
    "print(result)  # Output: 8\n"
   ]
  },
  {
   "cell_type": "code",
   "execution_count": 2,
   "id": "8643e5f4",
   "metadata": {},
   "outputs": [
    {
     "name": "stdout",
     "output_type": "stream",
     "text": [
      "6\n"
     ]
    }
   ],
   "source": [
    "def addition(num):\n",
    "    return num + 1\n",
    "\n",
    "print(addition(5))"
   ]
  },
  {
   "cell_type": "code",
   "execution_count": 4,
   "id": "2704c627",
   "metadata": {},
   "outputs": [
    {
     "name": "stdout",
     "output_type": "stream",
     "text": [
      "300\n",
      "180\n"
     ]
    }
   ],
   "source": [
    "def convert(minutes):\n",
    "    return minutes * 60\n",
    "\n",
    "print(convert(5))\n",
    "print(convert(3))"
   ]
  },
  {
   "cell_type": "code",
   "execution_count": 7,
   "id": "31b6d040",
   "metadata": {},
   "outputs": [
    {
     "name": "stdout",
     "output_type": "stream",
     "text": [
      "3.0\n",
      "14.0\n"
     ]
    },
    {
     "data": {
      "text/plain": [
       "50.0"
      ]
     },
     "execution_count": 7,
     "metadata": {},
     "output_type": "execute_result"
    }
   ],
   "source": [
    "def tri_area(base, height):\n",
    "    return base * 0.5 * height\n",
    "\n",
    "print(tri_area(3, 2))\n",
    "print(tri_area(7, 4))\n",
    "tri_area(10, 10)"
   ]
  },
  {
   "cell_type": "code",
   "execution_count": 10,
   "id": "c3453854",
   "metadata": {},
   "outputs": [
    {
     "name": "stdout",
     "output_type": "stream",
     "text": [
      "27\n",
      "125\n"
     ]
    },
    {
     "data": {
      "text/plain": [
       "1000"
      ]
     },
     "execution_count": 10,
     "metadata": {},
     "output_type": "execute_result"
    }
   ],
   "source": [
    "def cubes(a):\n",
    "    return a ** 3\n",
    "\n",
    "print(cubes(3))\n",
    "print(cubes(5))\n",
    "cubes(10)"
   ]
  },
  {
   "cell_type": "code",
   "execution_count": 11,
   "id": "0e960754",
   "metadata": {},
   "outputs": [
    {
     "name": "stdout",
     "output_type": "stream",
     "text": [
      "7200\n",
      "36000\n"
     ]
    },
    {
     "data": {
      "text/plain": [
       "86400"
      ]
     },
     "execution_count": 11,
     "metadata": {},
     "output_type": "execute_result"
    }
   ],
   "source": [
    "def how_many_seconds(hours):\n",
    "    return hours * 3600\n",
    "\n",
    "print(how_many_seconds(2))\n",
    "print(how_many_seconds(10))\n",
    "how_many_seconds(24)"
   ]
  },
  {
   "cell_type": "code",
   "execution_count": 12,
   "id": "9ef74cff",
   "metadata": {},
   "outputs": [
    {
     "name": "stdout",
     "output_type": "stream",
     "text": [
      "17\n",
      "11\n"
     ]
    },
    {
     "data": {
      "text/plain": [
       "10"
      ]
     },
     "execution_count": 12,
     "metadata": {},
     "output_type": "execute_result"
    }
   ],
   "source": [
    "def next_edge(a, b):\n",
    "    return (a + b) - 1\n",
    "\n",
    "print(next_edge(8, 10))\n",
    "print(next_edge(5, 7))\n",
    "next_edge(9, 2)"
   ]
  },
  {
   "cell_type": "code",
   "execution_count": 16,
   "id": "0ad9889d",
   "metadata": {},
   "outputs": [
    {
     "data": {
      "text/plain": [
       "1"
      ]
     },
     "execution_count": 16,
     "metadata": {},
     "output_type": "execute_result"
    }
   ],
   "source": [
    "def remainder(x, y):\n",
    "    return x % y\n",
    "\n",
    "remainder(1, 3)\n",
    "remainder(3, 4)\n",
    "remainder(5, 5)\n",
    "remainder(7, 2)"
   ]
  },
  {
   "cell_type": "code",
   "execution_count": 19,
   "id": "a74f3eef",
   "metadata": {},
   "outputs": [
    {
     "name": "stdout",
     "output_type": "stream",
     "text": [
      "6\n",
      "1000\n",
      "12\n"
     ]
    }
   ],
   "source": [
    "def string_int(str):\n",
    "    return int(str)\n",
    "\n",
    "print(string_int(\"6\"))\n",
    "print(string_int(\"1000\"))\n",
    "print(string_int(\"12\"))"
   ]
  },
  {
   "cell_type": "code",
   "execution_count": 21,
   "id": "41dd46f0",
   "metadata": {},
   "outputs": [
    {
     "name": "stdout",
     "output_type": "stream",
     "text": [
      "23725\n",
      "0\n",
      "7300\n"
     ]
    }
   ],
   "source": [
    "def calc_age(a):\n",
    "    return a * 365\n",
    "\n",
    "print(calc_age(65))\n",
    "print(calc_age(0))\n",
    "print(calc_age(20))"
   ]
  },
  {
   "cell_type": "code",
   "execution_count": 25,
   "id": "4f5f3d96",
   "metadata": {},
   "outputs": [
    {
     "name": "stdout",
     "output_type": "stream",
     "text": [
      "26\n",
      "60\n",
      "22\n"
     ]
    }
   ],
   "source": [
    "def find_perimeter(length, width):\n",
    "    return 2 * (length + width)\n",
    "\n",
    "print(find_perimeter(6, 7))\n",
    "print(find_perimeter(20, 10))\n",
    "print(find_perimeter(2, 9))"
   ]
  },
  {
   "cell_type": "code",
   "execution_count": 26,
   "id": "795884bc",
   "metadata": {},
   "outputs": [
    {
     "name": "stdout",
     "output_type": "stream",
     "text": [
      "2300\n",
      "330\n",
      "9600\n"
     ]
    }
   ],
   "source": [
    "def circuit_power(voltage, current):\n",
    "    return voltage * current\n",
    "\n",
    "print(circuit_power(230, 10))\n",
    "print(circuit_power(110, 3))\n",
    "print(circuit_power(480, 20))"
   ]
  },
  {
   "cell_type": "code",
   "execution_count": 28,
   "id": "fa59f115",
   "metadata": {},
   "outputs": [
    {
     "name": "stdout",
     "output_type": "stream",
     "text": [
      "180\n",
      "360\n",
      "720\n"
     ]
    }
   ],
   "source": [
    "def sum_polygon(n):\n",
    "    return (n - 2)*180\n",
    "\n",
    "print(sum_polygon(3))\n",
    "print(sum_polygon(4))\n",
    "print(sum_polygon(6))"
   ]
  },
  {
   "cell_type": "code",
   "execution_count": 29,
   "id": "9d73ec7e",
   "metadata": {},
   "outputs": [
    {
     "name": "stdout",
     "output_type": "stream",
     "text": [
      "3125\n",
      "10000000000\n",
      "27\n"
     ]
    }
   ],
   "source": [
    "def calculate_exponents(base, exponent):\n",
    "    return base ** exponent\n",
    "\n",
    "print(calculate_exponents(5,5))\n",
    "print(calculate_exponents(10,10))\n",
    "print(calculate_exponents(3,3))"
   ]
  },
  {
   "cell_type": "code",
   "execution_count": 32,
   "id": "01c222cf",
   "metadata": {},
   "outputs": [
    {
     "name": "stdout",
     "output_type": "stream",
     "text": [
      "<class 'str'>\n",
      "False\n"
     ]
    }
   ],
   "source": [
    "def bool_to_string(flag):\n",
    "    return str(flag)\n",
    "\n",
    "res = type(bool_to_string(True))\n",
    "\n",
    "print(res)\n",
    "print(False)"
   ]
  },
  {
   "cell_type": "code",
   "execution_count": 33,
   "id": "d2277491",
   "metadata": {},
   "outputs": [
    {
     "name": "stdout",
     "output_type": "stream",
     "text": [
      "25\n",
      "81\n"
     ]
    }
   ],
   "source": [
    "def squared(x):\n",
    "    return x ** 2\n",
    "\n",
    "print(squared(5))\n",
    "print(squared(9))"
   ]
  },
  {
   "cell_type": "code",
   "execution_count": 34,
   "id": "026d0c37",
   "metadata": {},
   "outputs": [
    {
     "name": "stdout",
     "output_type": "stream",
     "text": [
      "1\n",
      "80\n",
      "-500\n"
     ]
    }
   ],
   "source": [
    "def get_first_value(number_list):\n",
    "    return number_list[0]\n",
    "\n",
    "print(get_first_value([1,2,3]))\n",
    "print(get_first_value([80,5,100]))\n",
    "print(get_first_value([-500,0,50]))"
   ]
  },
  {
   "cell_type": "code",
   "execution_count": 35,
   "id": "1987e7cd",
   "metadata": {},
   "outputs": [
    {
     "name": "stdout",
     "output_type": "stream",
     "text": [
      "13\n",
      "15\n",
      "0\n"
     ]
    }
   ],
   "source": [
    "def football_points(wins,draws,losses):\n",
    "    return (wins*3) + (draws*1) + (losses*0)\n",
    "\n",
    "print(football_points(3,4,2))\n",
    "print(football_points(5,0,2))\n",
    "print(football_points(0,0,1))"
   ]
  },
  {
   "cell_type": "code",
   "execution_count": 36,
   "id": "4bf164ee",
   "metadata": {},
   "outputs": [
    {
     "name": "stdout",
     "output_type": "stream",
     "text": [
      "36\n",
      "22\n",
      "50\n"
     ]
    }
   ],
   "source": [
    "def animal_legs(chickens,cows,pigs):\n",
    "    return (chickens*2) + (cows*4) + (pigs*4)\n",
    "\n",
    "print(animal_legs(2,3,5))\n",
    "print(animal_legs(1,2,3))\n",
    "print(animal_legs(5,2,8))"
   ]
  },
  {
   "cell_type": "code",
   "execution_count": 37,
   "id": "71bdd302",
   "metadata": {},
   "outputs": [
    {
     "name": "stdout",
     "output_type": "stream",
     "text": [
      "MubashirEdabit\n",
      "MattEdabit\n",
      "pythonEdabit\n"
     ]
    }
   ],
   "source": [
    "def name_string(name):\n",
    "    result = name + \"Edabit\"\n",
    "    return result\n",
    "\n",
    "print(name_string(\"Mubashir\"))\n",
    "print(name_string(\"Matt\"))\n",
    "print(name_string(\"python\"))"
   ]
  },
  {
   "cell_type": "code",
   "execution_count": null,
   "id": "6633a700",
   "metadata": {},
   "outputs": [],
   "source": []
  }
 ],
 "metadata": {
  "kernelspec": {
   "display_name": ".venv",
   "language": "python",
   "name": "python3"
  },
  "language_info": {
   "codemirror_mode": {
    "name": "ipython",
    "version": 3
   },
   "file_extension": ".py",
   "mimetype": "text/x-python",
   "name": "python",
   "nbconvert_exporter": "python",
   "pygments_lexer": "ipython3",
   "version": "3.13.3"
  }
 },
 "nbformat": 4,
 "nbformat_minor": 5
}
