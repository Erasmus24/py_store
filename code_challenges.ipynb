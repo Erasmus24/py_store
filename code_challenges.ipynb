{
 "cells": [
  {
   "cell_type": "code",
   "execution_count": 1,
   "id": "195fe6f6",
   "metadata": {},
   "outputs": [
    {
     "name": "stdout",
     "output_type": "stream",
     "text": [
      "8\n"
     ]
    }
   ],
   "source": [
    "def addition(a, b):\n",
    "\treturn a + b\n",
    "\n",
    "result = addition(5, 3)\n",
    "print(result)  # Output: 8\n"
   ]
  },
  {
   "cell_type": "code",
   "execution_count": 2,
   "id": "8643e5f4",
   "metadata": {},
   "outputs": [
    {
     "name": "stdout",
     "output_type": "stream",
     "text": [
      "6\n"
     ]
    }
   ],
   "source": [
    "def addition(num):\n",
    "    return num + 1\n",
    "\n",
    "print(addition(5))"
   ]
  },
  {
   "cell_type": "code",
   "execution_count": 4,
   "id": "2704c627",
   "metadata": {},
   "outputs": [
    {
     "name": "stdout",
     "output_type": "stream",
     "text": [
      "300\n",
      "180\n"
     ]
    }
   ],
   "source": [
    "def convert(minutes):\n",
    "    return minutes * 60\n",
    "\n",
    "print(convert(5))\n",
    "print(convert(3))"
   ]
  },
  {
   "cell_type": "code",
   "execution_count": 7,
   "id": "31b6d040",
   "metadata": {},
   "outputs": [
    {
     "name": "stdout",
     "output_type": "stream",
     "text": [
      "3.0\n",
      "14.0\n"
     ]
    },
    {
     "data": {
      "text/plain": [
       "50.0"
      ]
     },
     "execution_count": 7,
     "metadata": {},
     "output_type": "execute_result"
    }
   ],
   "source": [
    "def tri_area(base, height):\n",
    "    return base * 0.5 * height\n",
    "\n",
    "print(tri_area(3, 2))\n",
    "print(tri_area(7, 4))\n",
    "tri_area(10, 10)"
   ]
  },
  {
   "cell_type": "code",
   "execution_count": 10,
   "id": "c3453854",
   "metadata": {},
   "outputs": [
    {
     "name": "stdout",
     "output_type": "stream",
     "text": [
      "27\n",
      "125\n"
     ]
    },
    {
     "data": {
      "text/plain": [
       "1000"
      ]
     },
     "execution_count": 10,
     "metadata": {},
     "output_type": "execute_result"
    }
   ],
   "source": [
    "def cubes(a):\n",
    "    return a ** 3\n",
    "\n",
    "print(cubes(3))\n",
    "print(cubes(5))\n",
    "cubes(10)"
   ]
  },
  {
   "cell_type": "code",
   "execution_count": 11,
   "id": "0e960754",
   "metadata": {},
   "outputs": [
    {
     "name": "stdout",
     "output_type": "stream",
     "text": [
      "7200\n",
      "36000\n"
     ]
    },
    {
     "data": {
      "text/plain": [
       "86400"
      ]
     },
     "execution_count": 11,
     "metadata": {},
     "output_type": "execute_result"
    }
   ],
   "source": [
    "def how_many_seconds(hours):\n",
    "    return hours * 3600\n",
    "\n",
    "print(how_many_seconds(2))\n",
    "print(how_many_seconds(10))\n",
    "how_many_seconds(24)"
   ]
  },
  {
   "cell_type": "code",
   "execution_count": 12,
   "id": "9ef74cff",
   "metadata": {},
   "outputs": [
    {
     "name": "stdout",
     "output_type": "stream",
     "text": [
      "17\n",
      "11\n"
     ]
    },
    {
     "data": {
      "text/plain": [
       "10"
      ]
     },
     "execution_count": 12,
     "metadata": {},
     "output_type": "execute_result"
    }
   ],
   "source": [
    "def next_edge(a, b):\n",
    "    return (a + b) - 1\n",
    "\n",
    "print(next_edge(8, 10))\n",
    "print(next_edge(5, 7))\n",
    "next_edge(9, 2)"
   ]
  },
  {
   "cell_type": "code",
   "execution_count": 16,
   "id": "0ad9889d",
   "metadata": {},
   "outputs": [
    {
     "data": {
      "text/plain": [
       "1"
      ]
     },
     "execution_count": 16,
     "metadata": {},
     "output_type": "execute_result"
    }
   ],
   "source": [
    "def remainder(x, y):\n",
    "    return x % y\n",
    "\n",
    "remainder(1, 3)\n",
    "remainder(3, 4)\n",
    "remainder(5, 5)\n",
    "remainder(7, 2)"
   ]
  },
  {
   "cell_type": "code",
   "execution_count": 19,
   "id": "a74f3eef",
   "metadata": {},
   "outputs": [
    {
     "name": "stdout",
     "output_type": "stream",
     "text": [
      "6\n",
      "1000\n",
      "12\n"
     ]
    }
   ],
   "source": [
    "def string_int(str):\n",
    "    return int(str)\n",
    "\n",
    "print(string_int(\"6\"))\n",
    "print(string_int(\"1000\"))\n",
    "print(string_int(\"12\"))"
   ]
  },
  {
   "cell_type": "code",
   "execution_count": 21,
   "id": "41dd46f0",
   "metadata": {},
   "outputs": [
    {
     "name": "stdout",
     "output_type": "stream",
     "text": [
      "23725\n",
      "0\n",
      "7300\n"
     ]
    }
   ],
   "source": [
    "def calc_age(a):\n",
    "    return a * 365\n",
    "\n",
    "print(calc_age(65))\n",
    "print(calc_age(0))\n",
    "print(calc_age(20))"
   ]
  },
  {
   "cell_type": "code",
   "execution_count": 25,
   "id": "4f5f3d96",
   "metadata": {},
   "outputs": [
    {
     "name": "stdout",
     "output_type": "stream",
     "text": [
      "26\n",
      "60\n",
      "22\n"
     ]
    }
   ],
   "source": [
    "def find_perimeter(length, width):\n",
    "    return 2 * (length + width)\n",
    "\n",
    "print(find_perimeter(6, 7))\n",
    "print(find_perimeter(20, 10))\n",
    "print(find_perimeter(2, 9))"
   ]
  },
  {
   "cell_type": "code",
   "execution_count": 26,
   "id": "795884bc",
   "metadata": {},
   "outputs": [
    {
     "name": "stdout",
     "output_type": "stream",
     "text": [
      "2300\n",
      "330\n",
      "9600\n"
     ]
    }
   ],
   "source": [
    "def circuit_power(voltage, current):\n",
    "    return voltage * current\n",
    "\n",
    "print(circuit_power(230, 10))\n",
    "print(circuit_power(110, 3))\n",
    "print(circuit_power(480, 20))"
   ]
  },
  {
   "cell_type": "code",
   "execution_count": 28,
   "id": "fa59f115",
   "metadata": {},
   "outputs": [
    {
     "name": "stdout",
     "output_type": "stream",
     "text": [
      "180\n",
      "360\n",
      "720\n"
     ]
    }
   ],
   "source": [
    "def sum_polygon(n):\n",
    "    return (n - 2)*180\n",
    "\n",
    "print(sum_polygon(3))\n",
    "print(sum_polygon(4))\n",
    "print(sum_polygon(6))"
   ]
  },
  {
   "cell_type": "code",
   "execution_count": 29,
   "id": "9d73ec7e",
   "metadata": {},
   "outputs": [
    {
     "name": "stdout",
     "output_type": "stream",
     "text": [
      "3125\n",
      "10000000000\n",
      "27\n"
     ]
    }
   ],
   "source": [
    "def calculate_exponents(base, exponent):\n",
    "    return base ** exponent\n",
    "\n",
    "print(calculate_exponents(5,5))\n",
    "print(calculate_exponents(10,10))\n",
    "print(calculate_exponents(3,3))"
   ]
  },
  {
   "cell_type": "code",
   "execution_count": 32,
   "id": "01c222cf",
   "metadata": {},
   "outputs": [
    {
     "name": "stdout",
     "output_type": "stream",
     "text": [
      "<class 'str'>\n",
      "False\n"
     ]
    }
   ],
   "source": [
    "def bool_to_string(flag):\n",
    "    return str(flag)\n",
    "\n",
    "res = type(bool_to_string(True))\n",
    "\n",
    "print(res)\n",
    "print(False)"
   ]
  },
  {
   "cell_type": "code",
   "execution_count": 33,
   "id": "d2277491",
   "metadata": {},
   "outputs": [
    {
     "name": "stdout",
     "output_type": "stream",
     "text": [
      "25\n",
      "81\n"
     ]
    }
   ],
   "source": [
    "def squared(x):\n",
    "    return x ** 2\n",
    "\n",
    "print(squared(5))\n",
    "print(squared(9))"
   ]
  },
  {
   "cell_type": "code",
   "execution_count": 34,
   "id": "026d0c37",
   "metadata": {},
   "outputs": [
    {
     "name": "stdout",
     "output_type": "stream",
     "text": [
      "1\n",
      "80\n",
      "-500\n"
     ]
    }
   ],
   "source": [
    "def get_first_value(number_list):\n",
    "    return number_list[0]\n",
    "\n",
    "print(get_first_value([1,2,3]))\n",
    "print(get_first_value([80,5,100]))\n",
    "print(get_first_value([-500,0,50]))"
   ]
  },
  {
   "cell_type": "code",
   "execution_count": 35,
   "id": "1987e7cd",
   "metadata": {},
   "outputs": [
    {
     "name": "stdout",
     "output_type": "stream",
     "text": [
      "13\n",
      "15\n",
      "0\n"
     ]
    }
   ],
   "source": [
    "def football_points(wins,draws,losses):\n",
    "    return (wins*3) + (draws*1) + (losses*0)\n",
    "\n",
    "print(football_points(3,4,2))\n",
    "print(football_points(5,0,2))\n",
    "print(football_points(0,0,1))"
   ]
  },
  {
   "cell_type": "code",
   "execution_count": 36,
   "id": "4bf164ee",
   "metadata": {},
   "outputs": [
    {
     "name": "stdout",
     "output_type": "stream",
     "text": [
      "36\n",
      "22\n",
      "50\n"
     ]
    }
   ],
   "source": [
    "def animal_legs(chickens,cows,pigs):\n",
    "    return (chickens*2) + (cows*4) + (pigs*4)\n",
    "\n",
    "print(animal_legs(2,3,5))\n",
    "print(animal_legs(1,2,3))\n",
    "print(animal_legs(5,2,8))"
   ]
  },
  {
   "cell_type": "code",
   "execution_count": 37,
   "id": "71bdd302",
   "metadata": {},
   "outputs": [
    {
     "name": "stdout",
     "output_type": "stream",
     "text": [
      "MubashirEdabit\n",
      "MattEdabit\n",
      "pythonEdabit\n"
     ]
    }
   ],
   "source": [
    "def name_string(name):\n",
    "    result = name + \"Edabit\"\n",
    "    return result\n",
    "\n",
    "print(name_string(\"Mubashir\"))\n",
    "print(name_string(\"Matt\"))\n",
    "print(name_string(\"python\"))"
   ]
  },
  {
   "cell_type": "code",
   "execution_count": null,
   "id": "6633a700",
   "metadata": {},
   "outputs": [
    {
     "name": "stdout",
     "output_type": "stream",
     "text": [
      "3780\n",
      "7200\n",
      "0\n"
     ]
    }
   ],
   "source": [
    "def convert_to_seconds(hours, minutes):\n",
    "    return (hours * 3600) + (minutes * 60)\n",
    "\n",
    "print(convert_to_seconds(1,3))\n",
    "print(convert_to_seconds(2, 0))\n",
    "print(convert_to_seconds(0, 0))"
   ]
  },
  {
   "cell_type": "code",
   "execution_count": 41,
   "id": "3282bff7",
   "metadata": {},
   "outputs": [
    {
     "name": "stdout",
     "output_type": "stream",
     "text": [
      "1\n",
      "3\n",
      "4\n"
     ]
    }
   ],
   "source": [
    "def total_amount_adjectives(dct):\n",
    "    return len(dct)\n",
    "\n",
    "print(total_amount_adjectives({ \"a\": \"moron\" }))\n",
    "print(total_amount_adjectives({ \"a\": \"idiot\", \"b\": \"idiot\", \"c\": \"idiot\" }))\n",
    "print(total_amount_adjectives({ \"a\": \"moron\", \"b\": \"scumbag\", \"c\": \"moron\", \"d\": \"dirtbag\" }))"
   ]
  },
  {
   "cell_type": "code",
   "execution_count": 1,
   "id": "1652bfad",
   "metadata": {},
   "outputs": [
    {
     "name": "stdout",
     "output_type": "stream",
     "text": [
      "77\n",
      "532\n",
      "77\n",
      "532\n"
     ]
    }
   ],
   "source": [
    "def to_int(str):\n",
    "    return int(str)\n",
    "\n",
    "def to_str(int):\n",
    "    return str(int)\n",
    "\n",
    "print(to_int(\"77\"))\n",
    "print(to_int(\"532\"))\n",
    "\n",
    "print(to_str(77))\n",
    "print(to_str(532))"
   ]
  },
  {
   "cell_type": "code",
   "execution_count": 44,
   "id": "f0499d0a",
   "metadata": {},
   "outputs": [
    {
     "name": "stdout",
     "output_type": "stream",
     "text": [
      "False\n",
      "True\n"
     ]
    }
   ],
   "source": [
    "def is_equal(obj_one, obj_two):\n",
    "    return obj_one == obj_two\n",
    "\n",
    "obj_one = {\n",
    "  \"name\": \"Benny\",\n",
    "  \"phone\": \"3325558745\",\n",
    "  \"email\": \"benny@edabit.com\"\n",
    "}\n",
    "\n",
    "# The second object parameter.\n",
    "\n",
    "obj_two = {\n",
    "  \"name\": \"Jason\",\n",
    "  \"phone\": \"9853759720\",\n",
    "  \"email\": \"jason@edabit.com\"\n",
    "}\n",
    "\n",
    "print(is_equal(obj_one, obj_two))\n",
    "\n",
    "obj_one = {\n",
    "  \"name\": \"Jason\",\n",
    "  \"phone\": \"9853759720\",\n",
    "  \"email\": \"jason@edabit.com\"\n",
    "}\n",
    "\n",
    "# The second object parameter.\n",
    "\n",
    "obj_two = {\n",
    "  \"name\": \"Jason\",\n",
    "  \"phone\": \"9853759720\",\n",
    "  \"email\": \"jason@edabit.com\"\n",
    "}\n",
    "\n",
    "print(is_equal(obj_one, obj_two))"
   ]
  },
  {
   "cell_type": "code",
   "execution_count": 45,
   "id": "28c9eed0",
   "metadata": {},
   "outputs": [
    {
     "name": "stdout",
     "output_type": "stream",
     "text": [
      "something is better than nothing\n",
      "something Bob Jane\n",
      "something something\n"
     ]
    }
   ],
   "source": [
    "def give_me_something(a):\n",
    "    return \"something\" + \" \" + a\n",
    "\n",
    "print(give_me_something(\"is better than nothing\"))\n",
    "print(give_me_something(\"Bob Jane\"))\n",
    "print(give_me_something(\"something\"))"
   ]
  },
  {
   "cell_type": "code",
   "execution_count": 46,
   "id": "f9df68c8",
   "metadata": {},
   "outputs": [
    {
     "name": "stdout",
     "output_type": "stream",
     "text": [
      "5\n",
      "29\n",
      "100\n"
     ]
    }
   ],
   "source": [
    "def points(two_pointers, three_pointers):\n",
    "    return (two_pointers * 2) + (three_pointers * 3)\n",
    "\n",
    "print(points(1, 1))\n",
    "print(points(7, 5))\n",
    "print(points(38, 8))"
   ]
  },
  {
   "cell_type": "code",
   "execution_count": 2,
   "id": "842b0c3e",
   "metadata": {},
   "outputs": [
    {
     "name": "stdout",
     "output_type": "stream",
     "text": [
      "False\n",
      "True\n",
      "False\n"
     ]
    }
   ],
   "source": [
    "def is_same_num(num1, num2):\n",
    "    return num1 == num2\n",
    "\n",
    "print(is_same_num(4, 8))\n",
    "print(is_same_num(2, 2))\n",
    "print(is_same_num(2, \"2\"))"
   ]
  },
  {
   "cell_type": "code",
   "execution_count": 3,
   "id": "dbe9378c",
   "metadata": {},
   "outputs": [
    {
     "name": "stdout",
     "output_type": "stream",
     "text": [
      "False\n",
      "True\n",
      "True\n"
     ]
    }
   ],
   "source": [
    "def less_than_or_equal_to_zero(num):\n",
    "    return num <= 0\n",
    "\n",
    "print(less_than_or_equal_to_zero(5))\n",
    "print(less_than_or_equal_to_zero(0))\n",
    "print(less_than_or_equal_to_zero(-2))"
   ]
  },
  {
   "cell_type": "code",
   "execution_count": 4,
   "id": "0fc37eb3",
   "metadata": {},
   "outputs": [
    {
     "name": "stdout",
     "output_type": "stream",
     "text": [
      "Hello, Matt\n",
      "Hello, Helen\n",
      "Hello, my love!\n"
     ]
    }
   ],
   "source": [
    "def greeting(name):\n",
    "    if name == \"Mubashir\":\n",
    "        return \"Hello, my love!\"\n",
    "    else:\n",
    "        return \"Hello, \" + name\n",
    "\n",
    "print(greeting(\"Matt\"))\n",
    "print(greeting(\"Helen\"))\n",
    "print(greeting(\"Mubashir\"))"
   ]
  },
  {
   "cell_type": "code",
   "execution_count": 5,
   "id": "8e6f3f23",
   "metadata": {},
   "outputs": [
    {
     "name": "stdout",
     "output_type": "stream",
     "text": [
      "51\n",
      "0\n",
      "0\n"
     ]
    }
   ],
   "source": [
    "def mod(x, y):\n",
    "    return x % y\n",
    "\n",
    "print(mod(-13,64))\n",
    "print(mod(50, 25))\n",
    "print(mod(-6, 3))"
   ]
  },
  {
   "cell_type": "code",
   "execution_count": 9,
   "id": "70d39b95",
   "metadata": {},
   "outputs": [
    {
     "name": "stdout",
     "output_type": "stream",
     "text": [
      "5\n",
      "600\n",
      "1001\n",
      "5\n",
      "600\n",
      "1001\n"
     ]
    }
   ],
   "source": [
    "def findLargestNum(numbers):\n",
    "    numbers.sort()\n",
    "    return numbers[-1]\n",
    "\n",
    "def find_largest(numbers):\n",
    "    if not numbers:\n",
    "        return None\n",
    "    largest = numbers[0]  # Start with first number\n",
    "    for num in numbers:\n",
    "        if num > largest:\n",
    "            largest = num\n",
    "    return largest\n",
    "\n",
    "print(findLargestNum([4, 5, 1, 3]))\n",
    "print(findLargestNum([300, 200, 600, 150]))\n",
    "print(findLargestNum([1000, 1001, 857, 1]))\n",
    "\n",
    "print(find_largest([4, 5, 1, 3]))\n",
    "print(find_largest([300, 200, 600, 150]))\n",
    "print(find_largest([1000, 1001, 857, 1]))"
   ]
  },
  {
   "cell_type": "code",
   "execution_count": 10,
   "id": "194135c6",
   "metadata": {},
   "outputs": [
    {
     "name": "stdout",
     "output_type": "stream",
     "text": [
      "2\n",
      "-345\n",
      "-76\n",
      "-0.9999\n",
      "7\n"
     ]
    }
   ],
   "source": [
    "def find_smallest_num(numbers):\n",
    "    numbers.sort()\n",
    "    return numbers[0]\n",
    "\n",
    "print(find_smallest_num([34, 15, 88, 2]))\n",
    "print(find_smallest_num([34, -345, -1, 100]))\n",
    "print(find_smallest_num([-76, 1.345, 1, 0]))\n",
    "print(find_smallest_num([0.4356, 0.8795, 0.5435, -0.9999]))\n",
    "print(find_smallest_num([7, 7, 7]))"
   ]
  },
  {
   "cell_type": "code",
   "execution_count": 11,
   "id": "d135acc3",
   "metadata": {},
   "outputs": [
    {
     "name": "stdout",
     "output_type": "stream",
     "text": [
      "False\n",
      "False\n",
      "True\n"
     ]
    }
   ],
   "source": [
    "def is_seven(x):\n",
    "    return x == 7\n",
    "\n",
    "print(is_seven(4))\n",
    "print(is_seven(9))\n",
    "print(is_seven(7))"
   ]
  },
  {
   "cell_type": "code",
   "execution_count": 12,
   "id": "9c54981b",
   "metadata": {},
   "outputs": [
    {
     "name": "stdout",
     "output_type": "stream",
     "text": [
      "82\n",
      "67\n"
     ]
    }
   ],
   "source": [
    "def difference_max_min(nums):\n",
    "    nums.sort()\n",
    "    return nums[-1] - nums[0]\n",
    "\n",
    "print(difference_max_min([10, 4, 1, 4, -10, -50, 32, 21]))\n",
    "print(difference_max_min([44, 32, 86, 19]))"
   ]
  },
  {
   "cell_type": "code",
   "execution_count": 13,
   "id": "fff3e6b2",
   "metadata": {},
   "outputs": [
    {
     "name": "stdout",
     "output_type": "stream",
     "text": [
      "[1, 3, 5, 2, 6, 8]\n",
      "[7, 8, 10, 9, 1, 1, 2]\n",
      "[4, 5, 1, 3, 3, 3, 3, 3]\n"
     ]
    }
   ],
   "source": [
    "def concat(lst1, lst2):\n",
    "    return lst1 + lst2\n",
    "\n",
    "print(concat([1, 3, 5], [2, 6, 8]))\n",
    "print(concat([7, 8], [10, 9, 1, 1, 2]))\n",
    "print(concat([4, 5, 1], [3, 3, 3, 3, 3]))"
   ]
  },
  {
   "cell_type": "code",
   "execution_count": 14,
   "id": "c266e531",
   "metadata": {},
   "outputs": [
    {
     "name": "stdout",
     "output_type": "stream",
     "text": [
      "True\n",
      "False\n",
      "True\n"
     ]
    }
   ],
   "source": [
    "def less_than_100(a, b):\n",
    "    return (a + b) < 100\n",
    "\n",
    "print(less_than_100(22, 15))\n",
    "print(less_than_100(83, 34))\n",
    "print(less_than_100(3, 77))"
   ]
  },
  {
   "cell_type": "code",
   "execution_count": 15,
   "id": "596b4d9d",
   "metadata": {},
   "outputs": [
    {
     "name": "stdout",
     "output_type": "stream",
     "text": [
      "3\n",
      "duck\n",
      "True\n",
      "False\n"
     ]
    }
   ],
   "source": [
    "def get_last_item(lst):\n",
    "    return lst[-1]\n",
    "\n",
    "print(get_last_item([1, 2, 3]))\n",
    "print(get_last_item([\"cat\", \"dog\", \"duck\"]))\n",
    "print(get_last_item([True, False, True]))\n",
    "print(get_last_item([7, \"String\", False]))"
   ]
  },
  {
   "cell_type": "code",
   "execution_count": 16,
   "id": "04482774",
   "metadata": {},
   "outputs": [
    {
     "name": "stdout",
     "output_type": "stream",
     "text": [
      "Hello Gerald!\n",
      "Hello Tiffany!\n",
      "Hello Ed!\n"
     ]
    }
   ],
   "source": [
    "def hello_name(name):\n",
    "    return f'Hello {name}!'\n",
    "\n",
    "print(hello_name(\"Gerald\"))\n",
    "print(hello_name(\"Tiffany\"))\n",
    "print(hello_name(\"Ed\"))"
   ]
  },
  {
   "cell_type": "code",
   "execution_count": 23,
   "id": "3828444d",
   "metadata": {},
   "outputs": [
    {
     "name": "stdout",
     "output_type": "stream",
     "text": [
      "True\n",
      "False\n",
      "True\n"
     ]
    }
   ],
   "source": [
    "def makes10(a, b):\n",
    "    if (a == 10) or (b == 10):\n",
    "        return True\n",
    "    elif (a + b) == 10:\n",
    "        return True\n",
    "    else:\n",
    "        return False\n",
    "\n",
    "print(makes10(9, 10))\n",
    "print(makes10(9, 9))\n",
    "print(makes10(1, 9))"
   ]
  },
  {
   "cell_type": "code",
   "execution_count": 26,
   "id": "1ebe6f54",
   "metadata": {},
   "outputs": [
    {
     "name": "stdout",
     "output_type": "stream",
     "text": [
      "True\n",
      "False\n",
      "True\n"
     ]
    }
   ],
   "source": [
    "def profitable_gamble(prob, prize, pay):\n",
    "    return (prob * prize) > pay\n",
    "\n",
    "print(profitable_gamble(0.2, 50, 9))\n",
    "print(profitable_gamble(0.9, 1, 2))\n",
    "print(profitable_gamble(0.9, 3, 2))"
   ]
  },
  {
   "cell_type": "code",
   "execution_count": 29,
   "id": "5dc42699",
   "metadata": {},
   "outputs": [
    {
     "name": "stdout",
     "output_type": "stream",
     "text": [
      "True\n",
      "True\n",
      "False\n"
     ]
    }
   ],
   "source": [
    "def divisible_by_five(num):\n",
    "    return num % 5 == 0\n",
    "\n",
    "print(divisible_by_five(5))\n",
    "print(divisible_by_five(-55))\n",
    "print(divisible_by_five(37))"
   ]
  },
  {
   "cell_type": "code",
   "execution_count": 35,
   "id": "64d85f44",
   "metadata": {},
   "outputs": [
    {
     "name": "stdout",
     "output_type": "stream",
     "text": [
      "13\n",
      "48\n",
      "105\n"
     ]
    }
   ],
   "source": [
    "def get_sum_of_elements(elements):\n",
    "    result = 0\n",
    "    for element in elements:\n",
    "        result += element\n",
    "    return result\n",
    "\n",
    "print(get_sum_of_elements([2, 7, 4]))\n",
    "print(get_sum_of_elements([45, 3, 0]))\n",
    "print(get_sum_of_elements([-2, 84, 23]))"
   ]
  },
  {
   "cell_type": "code",
   "execution_count": 36,
   "id": "56e7f815",
   "metadata": {},
   "outputs": [
    {
     "name": "stdout",
     "output_type": "stream",
     "text": [
      "60\n",
      "600\n",
      "15000\n"
     ]
    }
   ],
   "source": [
    "def frames(min, fps):\n",
    "    return min * fps * 60\n",
    "\n",
    "print(frames(1, 1))\n",
    "print(frames(10, 1))\n",
    "print(frames(10, 25))"
   ]
  },
  {
   "cell_type": "code",
   "execution_count": 37,
   "id": "c4717f42",
   "metadata": {},
   "outputs": [
    {
     "name": "stdout",
     "output_type": "stream",
     "text": [
      "False\n",
      "True\n",
      "True\n"
     ]
    }
   ],
   "source": [
    "def divisible(num):\n",
    "    return num % 100 == 0\n",
    "\n",
    "print(divisible(1))\n",
    "print(divisible(1000))\n",
    "print(divisible(100))"
   ]
  },
  {
   "cell_type": "code",
   "execution_count": 38,
   "id": "079e4433",
   "metadata": {},
   "outputs": [
    {
     "name": "stdout",
     "output_type": "stream",
     "text": [
      "False\n",
      "True\n",
      "False\n",
      "False\n"
     ]
    }
   ],
   "source": [
    "def And(a, b):\n",
    "    return a and b\n",
    "\n",
    "print(And(True, False))\n",
    "print(And(True, True))\n",
    "print(And(False, True))\n",
    "print(And(False, False))"
   ]
  },
  {
   "cell_type": "code",
   "execution_count": 42,
   "id": "71254f43",
   "metadata": {},
   "outputs": [
    {
     "name": "stdout",
     "output_type": "stream",
     "text": [
      "True\n",
      "True\n",
      "False\n",
      "False\n"
     ]
    }
   ],
   "source": [
    "def k_to_k(n, k):\n",
    "    return k ** k == n\n",
    "\n",
    "print(k_to_k(4, 2))\n",
    "print(k_to_k(387420489, 9))\n",
    "print(k_to_k(3124, 5))\n",
    "print(k_to_k(17, 3))"
   ]
  },
  {
   "cell_type": "code",
   "execution_count": 44,
   "id": "58116f9b",
   "metadata": {},
   "outputs": [
    {
     "name": "stdout",
     "output_type": "stream",
     "text": [
      "7\n",
      "0\n",
      "1000\n"
     ]
    }
   ],
   "source": [
    "def max_num(a, b):\n",
    "    if a > b:\n",
    "        return a\n",
    "    else:\n",
    "        return b\n",
    "\n",
    "print(max_num(3, 7))\n",
    "print(max_num(-1, 0))\n",
    "print(max_num(1000, 400))"
   ]
  },
  {
   "cell_type": "code",
   "execution_count": 47,
   "id": "365bc26d",
   "metadata": {},
   "outputs": [
    {
     "name": "stdout",
     "output_type": "stream",
     "text": [
      "True\n",
      "False\n",
      "False\n"
     ]
    }
   ],
   "source": [
    "def comp(str1, str2):\n",
    "    return len(str1) == len(str2)\n",
    "\n",
    "print(comp(\"AB\", \"CD\"))\n",
    "print(comp(\"ABC\", \"DE\"))\n",
    "print(comp(\"hello\", \"edabit\"))"
   ]
  },
  {
   "cell_type": "code",
   "execution_count": 48,
   "id": "00b372c2",
   "metadata": {},
   "outputs": [
    {
     "name": "stdout",
     "output_type": "stream",
     "text": [
      "True\n",
      "False\n"
     ]
    }
   ],
   "source": [
    "def divides_evenly(a, b):\n",
    "    return a % b == 0\n",
    "\n",
    "print(divides_evenly(98, 7))\n",
    "print(divides_evenly(85, 4))"
   ]
  },
  {
   "cell_type": "code",
   "execution_count": 50,
   "id": "40b79a3e",
   "metadata": {},
   "outputs": [
    {
     "name": "stdout",
     "output_type": "stream",
     "text": [
      "150\n",
      "235.0\n",
      "100\n"
     ]
    }
   ],
   "source": [
    "def calculate_fuel(dst):\n",
    "    if (dst * 10) < 100:\n",
    "        return 100\n",
    "    else:\n",
    "        return dst * 10\n",
    "\n",
    "print(calculate_fuel(15))\n",
    "print(calculate_fuel(23.5))\n",
    "print(calculate_fuel(3))"
   ]
  },
  {
   "cell_type": "code",
   "execution_count": 51,
   "id": "42f261df",
   "metadata": {},
   "outputs": [
    {
     "name": "stdout",
     "output_type": "stream",
     "text": [
      "True\n",
      "False\n",
      "False\n"
     ]
    }
   ],
   "source": [
    "def is_empty(str):\n",
    "    return \"\" == str\n",
    "\n",
    "print(is_empty(\"\"))\n",
    "print(is_empty(\" \"))\n",
    "print(is_empty(\"a\"))"
   ]
  },
  {
   "cell_type": "code",
   "execution_count": 52,
   "id": "1d2f8f10",
   "metadata": {},
   "outputs": [
    {
     "name": "stdout",
     "output_type": "stream",
     "text": [
      "ababab\n",
      "kiwi\n",
      "cherrycherry\n"
     ]
    }
   ],
   "source": [
    "def repetition(txt, n):\n",
    "    return txt * n\n",
    "\n",
    "print(repetition(\"ab\", 3))\n",
    "print(repetition(\"kiwi\", 1))\n",
    "print(repetition(\"cherry\", 2))"
   ]
  },
  {
   "cell_type": "code",
   "execution_count": 54,
   "id": "dae21485",
   "metadata": {},
   "outputs": [
    {
     "name": "stdout",
     "output_type": "stream",
     "text": [
      "[200, 100]\n",
      "[33, 44]\n",
      "[12, 21]\n"
     ]
    }
   ],
   "source": [
    "def swap(a, b):\n",
    "    return [b, a]\n",
    "\n",
    "print(swap(100, 200))\n",
    "print(swap(44, 33))\n",
    "print(swap(21, 12))"
   ]
  },
  {
   "cell_type": "code",
   "execution_count": 59,
   "id": "babbc051",
   "metadata": {},
   "outputs": [
    {
     "name": "stdout",
     "output_type": "stream",
     "text": [
      "-4\n",
      "-15\n",
      "-4\n",
      "0\n"
     ]
    }
   ],
   "source": [
    "def return_negative(a):\n",
    "    if a >= 0:\n",
    "        return a * (-1)\n",
    "    else:\n",
    "        return a\n",
    "\n",
    "print(return_negative(4))\n",
    "print(return_negative(15))\n",
    "print(return_negative(-4))\n",
    "print(return_negative(0))"
   ]
  },
  {
   "cell_type": "code",
   "execution_count": null,
   "id": "5516d256",
   "metadata": {},
   "outputs": [],
   "source": []
  },
  {
   "cell_type": "code",
   "execution_count": null,
   "id": "8b57c88a",
   "metadata": {},
   "outputs": [],
   "source": []
  }
 ],
 "metadata": {
  "kernelspec": {
   "display_name": ".venv",
   "language": "python",
   "name": "python3"
  },
  "language_info": {
   "codemirror_mode": {
    "name": "ipython",
    "version": 3
   },
   "file_extension": ".py",
   "mimetype": "text/x-python",
   "name": "python",
   "nbconvert_exporter": "python",
   "pygments_lexer": "ipython3",
   "version": "3.13.3"
  }
 },
 "nbformat": 4,
 "nbformat_minor": 5
}
