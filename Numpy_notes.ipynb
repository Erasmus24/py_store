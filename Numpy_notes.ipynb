{
 "cells": [
  {
   "cell_type": "code",
   "id": "initial_id",
   "metadata": {
    "collapsed": true,
    "ExecuteTime": {
     "end_time": "2025-05-08T11:19:47.418806Z",
     "start_time": "2025-05-08T11:19:47.295331Z"
    }
   },
   "source": [
    "# import numpy library\n",
    "\n",
    "import numpy as np"
   ],
   "outputs": [],
   "execution_count": 2
  },
  {
   "metadata": {
    "ExecuteTime": {
     "end_time": "2025-05-08T11:20:14.596237Z",
     "start_time": "2025-05-08T11:20:14.590616Z"
    }
   },
   "cell_type": "code",
   "source": [
    "# Create a numpy array\n",
    "\n",
    "a = np.array([0, 1, 2, 3, 4, 5, 6, 7, 8, 9])\n",
    "a"
   ],
   "id": "8c87f9d7306b2c9e",
   "outputs": [
    {
     "data": {
      "text/plain": [
       "array([0, 1, 2, 3, 4, 5, 6, 7, 8, 9])"
      ]
     },
     "execution_count": 3,
     "metadata": {},
     "output_type": "execute_result"
    }
   ],
   "execution_count": 3
  },
  {
   "metadata": {
    "ExecuteTime": {
     "end_time": "2025-05-07T11:02:24.317651Z",
     "start_time": "2025-05-07T11:02:24.314043Z"
    }
   },
   "cell_type": "code",
   "source": [
    "# Print each element\n",
    "\n",
    "print(\"a[0]:\", a[0])\n",
    "print(\"a[1]:\", a[1])\n",
    "print(\"a[2]:\", a[2])\n",
    "print(\"a[3]:\", a[3])\n",
    "print(\"a[4]:\", a[4])"
   ],
   "id": "ea46672178dec569",
   "outputs": [
    {
     "name": "stdout",
     "output_type": "stream",
     "text": [
      "a[0]: 0\n",
      "a[1]: 1\n",
      "a[2]: 2\n",
      "a[3]: 3\n",
      "a[4]: 4\n"
     ]
    }
   ],
   "execution_count": 3
  },
  {
   "metadata": {
    "ExecuteTime": {
     "end_time": "2025-05-07T11:02:45.555594Z",
     "start_time": "2025-05-07T11:02:45.551980Z"
    }
   },
   "cell_type": "code",
   "source": "print(np.__version__)",
   "id": "9b0a82e4cc28dbd9",
   "outputs": [
    {
     "name": "stdout",
     "output_type": "stream",
     "text": [
      "2.2.5\n"
     ]
    }
   ],
   "execution_count": 4
  },
  {
   "metadata": {
    "ExecuteTime": {
     "end_time": "2025-05-07T11:03:01.283993Z",
     "start_time": "2025-05-07T11:03:01.276351Z"
    }
   },
   "cell_type": "code",
   "source": [
    "# Check the type of the array\n",
    "\n",
    "type(a)"
   ],
   "id": "e1a4855eb077015b",
   "outputs": [
    {
     "data": {
      "text/plain": [
       "numpy.ndarray"
      ]
     },
     "execution_count": 5,
     "metadata": {},
     "output_type": "execute_result"
    }
   ],
   "execution_count": 5
  },
  {
   "metadata": {
    "ExecuteTime": {
     "end_time": "2025-05-07T11:05:03.281347Z",
     "start_time": "2025-05-07T11:05:03.276937Z"
    }
   },
   "cell_type": "code",
   "source": [
    "# Check the type of the values stored in numpy array\n",
    "\n",
    "a.dtype"
   ],
   "id": "cbd6fe37efceda00",
   "outputs": [
    {
     "data": {
      "text/plain": [
       "dtype('int64')"
      ]
     },
     "execution_count": 6,
     "metadata": {},
     "output_type": "execute_result"
    }
   ],
   "execution_count": 6
  },
  {
   "metadata": {
    "ExecuteTime": {
     "end_time": "2025-05-07T11:08:28.424395Z",
     "start_time": "2025-05-07T11:08:28.414438Z"
    }
   },
   "cell_type": "code",
   "source": [
    "# Create numpy array\n",
    "\n",
    "c = np.array([20, 1, 2, 3, 4])\n",
    "c"
   ],
   "id": "f0711e7f30c1ae1a",
   "outputs": [
    {
     "data": {
      "text/plain": [
       "array([20,  1,  2,  3,  4])"
      ]
     },
     "execution_count": 7,
     "metadata": {},
     "output_type": "execute_result"
    }
   ],
   "execution_count": 7
  },
  {
   "metadata": {
    "ExecuteTime": {
     "end_time": "2025-05-07T11:08:38.187584Z",
     "start_time": "2025-05-07T11:08:38.177596Z"
    }
   },
   "cell_type": "code",
   "source": [
    "# Assign the first element to 100\n",
    "\n",
    "c[0] = 100\n",
    "c"
   ],
   "id": "78520c2bde09ae82",
   "outputs": [
    {
     "data": {
      "text/plain": [
       "array([100,   1,   2,   3,   4])"
      ]
     },
     "execution_count": 8,
     "metadata": {},
     "output_type": "execute_result"
    }
   ],
   "execution_count": 8
  },
  {
   "metadata": {
    "ExecuteTime": {
     "end_time": "2025-05-07T11:09:06.404410Z",
     "start_time": "2025-05-07T11:09:06.399375Z"
    }
   },
   "cell_type": "code",
   "source": [
    "# Assign the 5th element to 0\n",
    "\n",
    "c[4] = 0\n",
    "c"
   ],
   "id": "f719d9fed01116f1",
   "outputs": [
    {
     "data": {
      "text/plain": [
       "array([100,   1,   2,   3,   0])"
      ]
     },
     "execution_count": 9,
     "metadata": {},
     "output_type": "execute_result"
    }
   ],
   "execution_count": 9
  },
  {
   "metadata": {
    "ExecuteTime": {
     "end_time": "2025-05-07T11:10:03.138997Z",
     "start_time": "2025-05-07T11:10:03.134213Z"
    }
   },
   "cell_type": "code",
   "source": [
    "a = np.array([10, 2, 30, 40,50])\n",
    "\n",
    "a[1] = 20\n",
    "a\n"
   ],
   "id": "26c3a5db641ea0d6",
   "outputs": [
    {
     "data": {
      "text/plain": [
       "array([10, 20, 30, 40, 50])"
      ]
     },
     "execution_count": 10,
     "metadata": {},
     "output_type": "execute_result"
    }
   ],
   "execution_count": 10
  },
  {
   "metadata": {
    "ExecuteTime": {
     "end_time": "2025-05-07T11:10:24.251572Z",
     "start_time": "2025-05-07T11:10:24.246580Z"
    }
   },
   "cell_type": "code",
   "source": "a[3]",
   "id": "92fb14e6fba1b3a0",
   "outputs": [
    {
     "data": {
      "text/plain": [
       "np.int64(40)"
      ]
     },
     "execution_count": 11,
     "metadata": {},
     "output_type": "execute_result"
    }
   ],
   "execution_count": 11
  },
  {
   "metadata": {
    "ExecuteTime": {
     "end_time": "2025-05-07T11:21:37.550258Z",
     "start_time": "2025-05-07T11:21:37.546210Z"
    }
   },
   "cell_type": "code",
   "source": [
    "# Slicing the numpy array\n",
    "\n",
    "d = c[1:4]\n",
    "d"
   ],
   "id": "44880dc4f59c25de",
   "outputs": [
    {
     "data": {
      "text/plain": [
       "array([1, 2, 3])"
      ]
     },
     "execution_count": 12,
     "metadata": {},
     "output_type": "execute_result"
    }
   ],
   "execution_count": 12
  },
  {
   "metadata": {
    "ExecuteTime": {
     "end_time": "2025-05-07T11:22:46.812311Z",
     "start_time": "2025-05-07T11:22:46.807574Z"
    }
   },
   "cell_type": "code",
   "source": [
    "# Set the fourth element and fifth element to 300 and 400\n",
    "\n",
    "c[3:5] = 300, 400\n",
    "c"
   ],
   "id": "32bae8eeb77a09b1",
   "outputs": [
    {
     "data": {
      "text/plain": [
       "array([100,   1,   2, 300, 400])"
      ]
     },
     "execution_count": 13,
     "metadata": {},
     "output_type": "execute_result"
    }
   ],
   "execution_count": 13
  },
  {
   "metadata": {
    "ExecuteTime": {
     "end_time": "2025-05-07T11:23:22.071301Z",
     "start_time": "2025-05-07T11:23:22.067129Z"
    }
   },
   "cell_type": "code",
   "source": [
    "arr = np.array([1, 2, 3, 4, 5, 6, 7])\n",
    "\n",
    "print(arr[1:5:2])"
   ],
   "id": "c873a6d1129b0dff",
   "outputs": [
    {
     "name": "stdout",
     "output_type": "stream",
     "text": [
      "[2 4]\n"
     ]
    }
   ],
   "execution_count": 14
  },
  {
   "metadata": {
    "ExecuteTime": {
     "end_time": "2025-05-07T11:24:26.416695Z",
     "start_time": "2025-05-07T11:24:26.413Z"
    }
   },
   "cell_type": "code",
   "source": "print(arr[:4])",
   "id": "57f678e99d0ecd0",
   "outputs": [
    {
     "name": "stdout",
     "output_type": "stream",
     "text": [
      "[1 2 3 4]\n"
     ]
    }
   ],
   "execution_count": 15
  },
  {
   "metadata": {
    "ExecuteTime": {
     "end_time": "2025-05-07T11:24:54.019959Z",
     "start_time": "2025-05-07T11:24:54.016583Z"
    }
   },
   "cell_type": "code",
   "source": "print(arr)",
   "id": "56417fcbcc147f79",
   "outputs": [
    {
     "name": "stdout",
     "output_type": "stream",
     "text": [
      "[1 2 3 4 5 6 7]\n"
     ]
    }
   ],
   "execution_count": 16
  },
  {
   "metadata": {
    "ExecuteTime": {
     "end_time": "2025-05-07T11:25:21.702962Z",
     "start_time": "2025-05-07T11:25:21.697109Z"
    }
   },
   "cell_type": "code",
   "source": "print(arr[4:])",
   "id": "5e8c20c6c4855608",
   "outputs": [
    {
     "name": "stdout",
     "output_type": "stream",
     "text": [
      "[5 6 7]\n"
     ]
    }
   ],
   "execution_count": 17
  },
  {
   "metadata": {
    "ExecuteTime": {
     "end_time": "2025-05-07T11:26:06.013274Z",
     "start_time": "2025-05-07T11:26:06.008416Z"
    }
   },
   "cell_type": "code",
   "source": "print(arr[1:5:])",
   "id": "2d93cf5bfe016322",
   "outputs": [
    {
     "name": "stdout",
     "output_type": "stream",
     "text": [
      "[2 3 4 5]\n"
     ]
    }
   ],
   "execution_count": 18
  },
  {
   "metadata": {
    "ExecuteTime": {
     "end_time": "2025-05-07T11:31:02.785275Z",
     "start_time": "2025-05-07T11:31:02.781126Z"
    }
   },
   "cell_type": "code",
   "source": [
    "arr = np.array([1, 2, 3, 4, 5, 6, 7, 8])\n",
    "\n",
    "# Even numbers\n",
    "print(arr[1:8:2])"
   ],
   "id": "d07e1a859aecf777",
   "outputs": [
    {
     "name": "stdout",
     "output_type": "stream",
     "text": [
      "[2 4 6 8]\n"
     ]
    }
   ],
   "execution_count": 19
  },
  {
   "metadata": {
    "ExecuteTime": {
     "end_time": "2025-05-07T11:31:53.556738Z",
     "start_time": "2025-05-07T11:31:53.548989Z"
    }
   },
   "cell_type": "code",
   "source": [
    "arr = np.array([1, 2, 3, 4, 5, 6, 7, 8])\n",
    "\n",
    "# Odd numbers\n",
    "print(arr[0:8:2])"
   ],
   "id": "300d921d4f1c81fb",
   "outputs": [
    {
     "name": "stdout",
     "output_type": "stream",
     "text": [
      "[1 3 5 7]\n"
     ]
    }
   ],
   "execution_count": 20
  },
  {
   "metadata": {
    "ExecuteTime": {
     "end_time": "2025-05-07T11:32:39.139822Z",
     "start_time": "2025-05-07T11:32:39.136252Z"
    }
   },
   "cell_type": "code",
   "source": [
    "# Create the index list\n",
    "\n",
    "select = [0, 2, 3, 4]\n",
    "select"
   ],
   "id": "75a94712af1de94f",
   "outputs": [
    {
     "data": {
      "text/plain": [
       "[0, 2, 3, 4]"
      ]
     },
     "execution_count": 21,
     "metadata": {},
     "output_type": "execute_result"
    }
   ],
   "execution_count": 21
  },
  {
   "metadata": {
    "ExecuteTime": {
     "end_time": "2025-05-07T11:32:51.342339Z",
     "start_time": "2025-05-07T11:32:51.332129Z"
    }
   },
   "cell_type": "code",
   "source": [
    "# Use List to select elements\n",
    "\n",
    "d = c[select]\n",
    "d"
   ],
   "id": "cf5a1dae83f81113",
   "outputs": [
    {
     "data": {
      "text/plain": [
       "array([100,   2, 300, 400])"
      ]
     },
     "execution_count": 22,
     "metadata": {},
     "output_type": "execute_result"
    }
   ],
   "execution_count": 22
  },
  {
   "metadata": {
    "ExecuteTime": {
     "end_time": "2025-05-07T11:34:22.333221Z",
     "start_time": "2025-05-07T11:34:22.329276Z"
    }
   },
   "cell_type": "code",
   "source": [
    "# Assign the specified elements to new value\n",
    "\n",
    "c[select] = 100000\n",
    "c"
   ],
   "id": "ee8dc3c53ecb9053",
   "outputs": [
    {
     "data": {
      "text/plain": [
       "array([100000,      1, 100000, 100000, 100000])"
      ]
     },
     "execution_count": 23,
     "metadata": {},
     "output_type": "execute_result"
    }
   ],
   "execution_count": 23
  },
  {
   "metadata": {
    "ExecuteTime": {
     "end_time": "2025-05-07T11:35:15.600608Z",
     "start_time": "2025-05-07T11:35:15.593222Z"
    }
   },
   "cell_type": "code",
   "source": [
    "# Create a numpy array\n",
    "\n",
    "a = np.array([0, 1, 2, 3, 4])\n",
    "a"
   ],
   "id": "59c50fdc9c4b68aa",
   "outputs": [
    {
     "data": {
      "text/plain": [
       "array([0, 1, 2, 3, 4])"
      ]
     },
     "execution_count": 24,
     "metadata": {},
     "output_type": "execute_result"
    }
   ],
   "execution_count": 24
  },
  {
   "metadata": {
    "ExecuteTime": {
     "end_time": "2025-05-07T11:35:26.584603Z",
     "start_time": "2025-05-07T11:35:26.578913Z"
    }
   },
   "cell_type": "code",
   "source": [
    "# Get the size of numpy array\n",
    "\n",
    "a.size"
   ],
   "id": "b9ba49d5e86222f7",
   "outputs": [
    {
     "data": {
      "text/plain": [
       "5"
      ]
     },
     "execution_count": 25,
     "metadata": {},
     "output_type": "execute_result"
    }
   ],
   "execution_count": 25
  },
  {
   "metadata": {
    "ExecuteTime": {
     "end_time": "2025-05-07T11:35:39.673363Z",
     "start_time": "2025-05-07T11:35:39.667433Z"
    }
   },
   "cell_type": "code",
   "source": [
    "# Get the number of dimensions of numpy array\n",
    "\n",
    "a.ndim"
   ],
   "id": "9920b09617b4a60b",
   "outputs": [
    {
     "data": {
      "text/plain": [
       "1"
      ]
     },
     "execution_count": 26,
     "metadata": {},
     "output_type": "execute_result"
    }
   ],
   "execution_count": 26
  },
  {
   "metadata": {
    "ExecuteTime": {
     "end_time": "2025-05-07T11:35:58.143430Z",
     "start_time": "2025-05-07T11:35:58.140338Z"
    }
   },
   "cell_type": "code",
   "source": [
    "# Get the shape/size of numpy array\n",
    "\n",
    "a.shape"
   ],
   "id": "74c15977399e2f22",
   "outputs": [
    {
     "data": {
      "text/plain": [
       "(5,)"
      ]
     },
     "execution_count": 27,
     "metadata": {},
     "output_type": "execute_result"
    }
   ],
   "execution_count": 27
  },
  {
   "metadata": {
    "ExecuteTime": {
     "end_time": "2025-05-07T11:37:30.795555Z",
     "start_time": "2025-05-07T11:37:30.791344Z"
    }
   },
   "cell_type": "code",
   "source": [
    "# Create a numpy array\n",
    "\n",
    "a = np.array([1, -1, 1, -1])\n",
    "a"
   ],
   "id": "207d60d1f191612d",
   "outputs": [
    {
     "data": {
      "text/plain": [
       "array([ 1, -1,  1, -1])"
      ]
     },
     "execution_count": 29,
     "metadata": {},
     "output_type": "execute_result"
    }
   ],
   "execution_count": 29
  },
  {
   "metadata": {
    "ExecuteTime": {
     "end_time": "2025-05-07T11:37:43.623270Z",
     "start_time": "2025-05-07T11:37:43.616388Z"
    }
   },
   "cell_type": "code",
   "source": [
    "# Get the mean of numpy array\n",
    "\n",
    "mean = a.mean()\n",
    "mean"
   ],
   "id": "68aa266435d9520f",
   "outputs": [
    {
     "data": {
      "text/plain": [
       "np.float64(0.0)"
      ]
     },
     "execution_count": 30,
     "metadata": {},
     "output_type": "execute_result"
    }
   ],
   "execution_count": 30
  },
  {
   "metadata": {
    "ExecuteTime": {
     "end_time": "2025-05-07T11:37:59.954074Z",
     "start_time": "2025-05-07T11:37:59.943709Z"
    }
   },
   "cell_type": "code",
   "source": [
    "# Get the standard deviation of numpy array\n",
    "\n",
    "standard_deviation=a.std()\n",
    "standard_deviation"
   ],
   "id": "879f57eb678cb273",
   "outputs": [
    {
     "data": {
      "text/plain": [
       "np.float64(1.0)"
      ]
     },
     "execution_count": 31,
     "metadata": {},
     "output_type": "execute_result"
    }
   ],
   "execution_count": 31
  },
  {
   "metadata": {
    "ExecuteTime": {
     "end_time": "2025-05-07T11:38:23.699573Z",
     "start_time": "2025-05-07T11:38:23.693084Z"
    }
   },
   "cell_type": "code",
   "source": [
    "# Create a numpy array\n",
    "\n",
    "b = np.array([-1, 2, 3, 4, 5])\n",
    "b"
   ],
   "id": "a69ef1259377d8f0",
   "outputs": [
    {
     "data": {
      "text/plain": [
       "array([-1,  2,  3,  4,  5])"
      ]
     },
     "execution_count": 32,
     "metadata": {},
     "output_type": "execute_result"
    }
   ],
   "execution_count": 32
  },
  {
   "metadata": {
    "ExecuteTime": {
     "end_time": "2025-05-07T11:38:36.307394Z",
     "start_time": "2025-05-07T11:38:36.302062Z"
    }
   },
   "cell_type": "code",
   "source": [
    "# Get the biggest value in the numpy array\n",
    "\n",
    "max_b = b.max()\n",
    "max_b"
   ],
   "id": "ce33f5d545ab5211",
   "outputs": [
    {
     "data": {
      "text/plain": [
       "np.int64(5)"
      ]
     },
     "execution_count": 33,
     "metadata": {},
     "output_type": "execute_result"
    }
   ],
   "execution_count": 33
  },
  {
   "metadata": {
    "ExecuteTime": {
     "end_time": "2025-05-08T11:19:36.474410Z",
     "start_time": "2025-05-08T11:19:36.252545Z"
    }
   },
   "cell_type": "code",
   "source": [
    "# Get the smallest value in the numpy array\n",
    "\n",
    "min_b = b.min()\n",
    "min_b"
   ],
   "id": "d7c4c6e87cb3eada",
   "outputs": [
    {
     "ename": "NameError",
     "evalue": "name 'b' is not defined",
     "output_type": "error",
     "traceback": [
      "\u001B[31m---------------------------------------------------------------------------\u001B[39m",
      "\u001B[31mNameError\u001B[39m                                 Traceback (most recent call last)",
      "\u001B[36mCell\u001B[39m\u001B[36m \u001B[39m\u001B[32mIn[1]\u001B[39m\u001B[32m, line 3\u001B[39m\n\u001B[32m      1\u001B[39m \u001B[38;5;66;03m# Get the smallest value in the numpy array\u001B[39;00m\n\u001B[32m----> \u001B[39m\u001B[32m3\u001B[39m min_b = \u001B[43mb\u001B[49m.min()\n\u001B[32m      4\u001B[39m min_b\n",
      "\u001B[31mNameError\u001B[39m: name 'b' is not defined"
     ]
    }
   ],
   "execution_count": 1
  },
  {
   "metadata": {
    "ExecuteTime": {
     "end_time": "2025-05-07T11:40:26.247245Z",
     "start_time": "2025-05-07T11:40:26.242474Z"
    }
   },
   "cell_type": "code",
   "source": [
    "c = np.array([-10, 201, 43, 94, 502])\n",
    "\n",
    "# Enter your code here\n",
    "sum_c = c.min() + c.max()\n",
    "sum_c"
   ],
   "id": "f59ec994ee9ae4ea",
   "outputs": [
    {
     "data": {
      "text/plain": [
       "np.int64(492)"
      ]
     },
     "execution_count": 35,
     "metadata": {},
     "output_type": "execute_result"
    }
   ],
   "execution_count": 35
  },
  {
   "metadata": {
    "ExecuteTime": {
     "end_time": "2025-05-07T11:40:39.240901Z",
     "start_time": "2025-05-07T11:40:39.237632Z"
    }
   },
   "cell_type": "code",
   "source": [
    "max_c = c.max()\n",
    "max_c\n",
    "\n",
    "min_c = c.min()\n",
    "min_c\n",
    "\n",
    "\n",
    "Sum = (max_c +min_c)\n",
    "Sum"
   ],
   "id": "82458a2bdf771593",
   "outputs": [
    {
     "data": {
      "text/plain": [
       "np.int64(492)"
      ]
     },
     "execution_count": 36,
     "metadata": {},
     "output_type": "execute_result"
    }
   ],
   "execution_count": 36
  },
  {
   "metadata": {
    "ExecuteTime": {
     "end_time": "2025-05-07T11:41:18.093730Z",
     "start_time": "2025-05-07T11:41:18.089003Z"
    }
   },
   "cell_type": "code",
   "source": [
    "u = np.array([1, 0])\n",
    "u"
   ],
   "id": "641296227a7ac5fb",
   "outputs": [
    {
     "data": {
      "text/plain": [
       "array([1, 0])"
      ]
     },
     "execution_count": 37,
     "metadata": {},
     "output_type": "execute_result"
    }
   ],
   "execution_count": 37
  },
  {
   "metadata": {},
   "cell_type": "code",
   "outputs": [],
   "execution_count": null,
   "source": "",
   "id": "699f0f89142b13b3"
  }
 ],
 "metadata": {
  "kernelspec": {
   "display_name": "Python 3",
   "language": "python",
   "name": "python3"
  },
  "language_info": {
   "codemirror_mode": {
    "name": "ipython",
    "version": 2
   },
   "file_extension": ".py",
   "mimetype": "text/x-python",
   "name": "python",
   "nbconvert_exporter": "python",
   "pygments_lexer": "ipython2",
   "version": "2.7.6"
  }
 },
 "nbformat": 4,
 "nbformat_minor": 5
}
