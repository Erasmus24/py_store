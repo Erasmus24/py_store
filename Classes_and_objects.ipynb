{
 "cells": [
  {
   "cell_type": "code",
   "execution_count": 3,
   "id": "initial_id",
   "metadata": {
    "ExecuteTime": {
     "end_time": "2025-05-05T12:37:12.919764Z",
     "start_time": "2025-05-05T12:37:12.916294Z"
    },
    "collapsed": true
   },
   "outputs": [
    {
     "name": "stdout",
     "output_type": "stream",
     "text": [
      "Lorem ipsum dolor! diam amet, consetetur Lorem magna. sed diam nonumy eirmod tempor. diam et labore? et diam magna. et diam amet.\n"
     ]
    }
   ],
   "source": [
    "#Press Shift+Enter to run the code\n",
    "givenstring=\"Lorem ipsum dolor! diam amet, consetetur Lorem magna. sed diam nonumy eirmod tempor. diam et labore? et diam magna. et diam amet.\"\n",
    "print(givenstring)"
   ]
  },
  {
   "cell_type": "code",
   "execution_count": 1,
   "id": "fc37b6fabe99c5ed",
   "metadata": {
    "ExecuteTime": {
     "end_time": "2025-05-05T12:40:05.127681Z",
     "start_time": "2025-05-05T12:40:05.124392Z"
    }
   },
   "outputs": [],
   "source": [
    "class TextAnalyzer(object):\n",
    "\n",
    "    def __init__ (self, text):\n",
    "        # remove punctuation\n",
    "        formattedText = text.replace('.','').replace('!','').replace('?','').replace(',','')\n",
    "\n",
    "        # make text lowercase\n",
    "        formattedText = formattedText.lower()\n",
    "\n",
    "        self.fmtText = formattedText\n",
    "\n",
    "    def freqAll(self):\n",
    "        # split text into words\n",
    "        wordList = self.fmtText.split(' ')\n",
    "\n",
    "        # Create dictionary\n",
    "        freqMap = {}\n",
    "        for word in set(wordList): # use set to remove duplicates in list\n",
    "            freqMap[word] = wordList.count(word)\n",
    "\n",
    "        return freqMap\n",
    "\n",
    "    def freqOf(self,word):\n",
    "        # get frequency map\n",
    "        freqDict = self.freqAll()\n",
    "\n",
    "        if word in freqDict:\n",
    "            return freqDict[word]\n",
    "        else:\n",
    "            return 0"
   ]
  },
  {
   "cell_type": "code",
   "execution_count": 5,
   "id": "ae3312fa299b8b54",
   "metadata": {
    "ExecuteTime": {
     "end_time": "2025-05-05T12:41:12.649210Z",
     "start_time": "2025-05-05T12:41:12.646660Z"
    }
   },
   "outputs": [
    {
     "name": "stdout",
     "output_type": "stream",
     "text": [
      "Lorem ipsum dolor! diam amet, consetetur Lorem magna. sed diam nonumy eirmod tempor. diam et labore? et diam magna. et diam amet.\n"
     ]
    },
    {
     "data": {
      "text/plain": [
       "<__main__.TextAnalyzer at 0x1e502ac9f90>"
      ]
     },
     "execution_count": 5,
     "metadata": {},
     "output_type": "execute_result"
    }
   ],
   "source": [
    "givenstring=\"Lorem ipsum dolor! diam amet, consetetur Lorem magna. sed diam nonumy eirmod tempor. diam et labore? et diam magna. et diam amet.\"\n",
    "print(givenstring)\n",
    "analyzed = TextAnalyzer(givenstring)\n",
    "analyzed"
   ]
  },
  {
   "cell_type": "code",
   "execution_count": 6,
   "id": "f6c3561b0b3f118b",
   "metadata": {
    "ExecuteTime": {
     "end_time": "2025-05-05T12:43:08.587782Z",
     "start_time": "2025-05-05T12:43:08.582556Z"
    }
   },
   "outputs": [
    {
     "name": "stdout",
     "output_type": "stream",
     "text": [
      "Formatted Text: lorem ipsum dolor diam amet consetetur lorem magna sed diam nonumy eirmod tempor diam et labore et diam magna et diam amet\n"
     ]
    }
   ],
   "source": [
    "print(\"Formatted Text:\", analyzed.fmtText)"
   ]
  },
  {
   "cell_type": "code",
   "execution_count": 9,
   "id": "5bc4df4f4375b3c8",
   "metadata": {
    "ExecuteTime": {
     "end_time": "2025-05-05T12:46:11.730352Z",
     "start_time": "2025-05-05T12:46:11.727406Z"
    }
   },
   "outputs": [
    {
     "name": "stdout",
     "output_type": "stream",
     "text": [
      "Frequency of words: {'ipsum': 1, 'amet': 2, 'magna': 2, 'sed': 1, 'eirmod': 1, 'consetetur': 1, 'et': 3, 'dolor': 1, 'nonumy': 1, 'tempor': 1, 'labore': 1, 'diam': 5, 'lorem': 2}\n"
     ]
    }
   ],
   "source": [
    "#print(\"Frequency of words:\", analyzed.freqAll())\n",
    "freqMap = analyzed.freqAll()\n",
    "print(freqMap)"
   ]
  },
  {
   "cell_type": "code",
   "execution_count": 11,
   "id": "4e1524e260542bcd",
   "metadata": {
    "ExecuteTime": {
     "end_time": "2025-05-05T12:47:55.590037Z",
     "start_time": "2025-05-05T12:47:55.587372Z"
    }
   },
   "outputs": [
    {
     "name": "stdout",
     "output_type": "stream",
     "text": [
      "The word lorem appears 2 times.\n"
     ]
    }
   ],
   "source": [
    "#print(analyzed.freqOf('lorem'))\n",
    "word = \"lorem\"\n",
    "frequency = analyzed.freqOf(word)\n",
    "print(\"The word\",word,\"appears\",frequency,\"times.\")"
   ]
  },
  {
   "cell_type": "code",
   "execution_count": 6,
   "id": "4c083216fab052d8",
   "metadata": {
    "ExecuteTime": {
     "end_time": "2025-05-05T12:51:22.804588Z",
     "start_time": "2025-05-05T12:51:22.800581Z"
    }
   },
   "outputs": [
    {
     "name": "stdout",
     "output_type": "stream",
     "text": [
      "apples\n",
      "bananas\n",
      "oranges\n",
      "grapes\n",
      "kiwis\n"
     ]
    }
   ],
   "source": [
    "fruits = [\"apples\", \"bananas\", \"oranges\", \"grapes\", \"kiwis\"]\n",
    "for fruit in fruits:\n",
    "    print(fruit)"
   ]
  },
  {
   "cell_type": "code",
   "execution_count": 13,
   "id": "eb1c775395edb71f",
   "metadata": {
    "ExecuteTime": {
     "end_time": "2025-05-05T12:52:07.621925Z",
     "start_time": "2025-05-05T12:52:07.617401Z"
    }
   },
   "outputs": [
    {
     "name": "stdout",
     "output_type": "stream",
     "text": [
      "You got a B.\n"
     ]
    }
   ],
   "source": [
    "score = 85  # Example score\n",
    "if score >= 90:\n",
    "    print(\"You got an A!\")\n",
    "elif score >= 80:\n",
    "    print(\"You got a B.\")\n",
    "else:\n",
    "    print(\"You need to work harder.\")\n",
    "\n",
    "# Output = You got a B."
   ]
  },
  {
   "cell_type": "code",
   "execution_count": 14,
   "id": "1d5bd6d3e8e20998",
   "metadata": {
    "ExecuteTime": {
     "end_time": "2025-05-05T12:53:06.653981Z",
     "start_time": "2025-05-05T12:53:06.648671Z"
    }
   },
   "outputs": [
    {
     "name": "stdout",
     "output_type": "stream",
     "text": [
      "1\n",
      "2\n"
     ]
    }
   ],
   "source": [
    "for num in range(1, 6):\n",
    "    if num == 3:\n",
    "        break\n",
    "    print(num)"
   ]
  },
  {
   "cell_type": "code",
   "execution_count": 15,
   "id": "83f33055d875d4b9",
   "metadata": {
    "ExecuteTime": {
     "end_time": "2025-05-05T12:53:15.737139Z",
     "start_time": "2025-05-05T12:53:15.732133Z"
    }
   },
   "outputs": [
    {
     "name": "stdout",
     "output_type": "stream",
     "text": [
      "1\n",
      "2\n",
      "4\n",
      "5\n"
     ]
    }
   ],
   "source": [
    "for num in range(1, 6):\n",
    "    if num == 3:\n",
    "        continue\n",
    "    print(num)"
   ]
  },
  {
   "cell_type": "code",
   "execution_count": 16,
   "id": "1d8390b4e92f9aba",
   "metadata": {
    "ExecuteTime": {
     "end_time": "2025-05-05T12:54:13.328745Z",
     "start_time": "2025-05-05T12:54:13.325513Z"
    }
   },
   "outputs": [
    {
     "name": "stdout",
     "output_type": "stream",
     "text": [
      "8\n"
     ]
    }
   ],
   "source": [
    "def add(a, b): return a + b\n",
    "result = add(3, 5)\n",
    "print(result)"
   ]
  },
  {
   "cell_type": "code",
   "execution_count": 17,
   "id": "6cd3fedaea5aa766",
   "metadata": {
    "ExecuteTime": {
     "end_time": "2025-05-05T12:54:41.415262Z",
     "start_time": "2025-05-05T12:54:41.217217Z"
    }
   },
   "outputs": [
    {
     "name": "stdout",
     "output_type": "stream",
     "text": [
      "File not found.\n"
     ]
    },
    {
     "ename": "NameError",
     "evalue": "name 'file' is not defined",
     "output_type": "error",
     "traceback": [
      "\u001b[31m---------------------------------------------------------------------------\u001b[39m",
      "\u001b[31mNameError\u001b[39m                                 Traceback (most recent call last)",
      "\u001b[36mCell\u001b[39m\u001b[36m \u001b[39m\u001b[32mIn[17]\u001b[39m\u001b[32m, line 7\u001b[39m\n\u001b[32m      5\u001b[39m     \u001b[38;5;28mprint\u001b[39m(\u001b[33m\"\u001b[39m\u001b[33mFile not found.\u001b[39m\u001b[33m\"\u001b[39m)\n\u001b[32m      6\u001b[39m \u001b[38;5;28;01mfinally\u001b[39;00m:\n\u001b[32m----> \u001b[39m\u001b[32m7\u001b[39m     \u001b[43mfile\u001b[49m.close()\n",
      "\u001b[31mNameError\u001b[39m: name 'file' is not defined"
     ]
    }
   ],
   "source": [
    "#Mode: The mode parameter specifies the purpose of opening the file, such as 'r' for reading, 'w' for writing, or 'a' for appending.\n",
    "try:\n",
    "    # Open the file in read ('r') mode\n",
    "    file = open(\"data.txt\", \"r\")\n",
    "    data = file.read()\n",
    "except FileNotFoundError:\n",
    "    print(\"File not found.\")\n",
    "finally:\n",
    "    file.close()"
   ]
  },
  {
   "cell_type": "code",
   "execution_count": null,
   "id": "76ca693a05897bcc",
   "metadata": {},
   "outputs": [],
   "source": []
  }
 ],
 "metadata": {
  "kernelspec": {
   "display_name": ".venv",
   "language": "python",
   "name": "python3"
  },
  "language_info": {
   "codemirror_mode": {
    "name": "ipython",
    "version": 3
   },
   "file_extension": ".py",
   "mimetype": "text/x-python",
   "name": "python",
   "nbconvert_exporter": "python",
   "pygments_lexer": "ipython3",
   "version": "3.13.3"
  }
 },
 "nbformat": 4,
 "nbformat_minor": 5
}
