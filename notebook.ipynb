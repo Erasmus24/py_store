{
 "cells": [
  {
   "cell_type": "markdown",
   "id": "8a77807f92f26ee",
   "metadata": {},
   "source": [
    "# This is a sample Jupyter Notebook\n",
    "\n",
    "Below is an example of a code cell. \n",
    "Put your cursor into the cell and press Shift+Enter to execute it and select the next one, or click 'Run Cell' button.\n",
    "\n",
    "Press Double Shift to search everywhere for classes, files, tool windows, actions, and settings.\n",
    "\n",
    "To learn more about Jupyter Notebooks in PyCharm, see [help](https://www.jetbrains.com/help/pycharm/ipython-notebook-support.html).\n",
    "For an overview of PyCharm, go to Help -> Learn IDE features or refer to [our documentation](https://www.jetbrains.com/help/pycharm/getting-started.html)."
   ]
  },
  {
   "cell_type": "code",
   "execution_count": 1,
   "id": "fbc121e30a2defb3",
   "metadata": {
    "ExecuteTime": {
     "end_time": "2025-04-22T13:11:41.024490Z",
     "start_time": "2025-04-22T13:11:41.016718Z"
    }
   },
   "outputs": [
    {
     "name": "stdout",
     "output_type": "stream",
     "text": [
      "Hello World!\n"
     ]
    }
   ],
   "source": [
    "print(\"Hello World!\")\n"
   ]
  },
  {
   "cell_type": "code",
   "execution_count": 2,
   "id": "e5ccac92106d6602",
   "metadata": {
    "ExecuteTime": {
     "end_time": "2025-04-22T13:12:01.956879Z",
     "start_time": "2025-04-22T13:12:01.953653Z"
    }
   },
   "outputs": [
    {
     "name": "stdout",
     "output_type": "stream",
     "text": [
      "hello there\n"
     ]
    }
   ],
   "source": [
    "print('hello there')"
   ]
  },
  {
   "cell_type": "code",
   "execution_count": 3,
   "id": "8ef6254905bb945a",
   "metadata": {
    "ExecuteTime": {
     "end_time": "2025-04-22T13:12:38.975690Z",
     "start_time": "2025-04-22T13:12:38.972715Z"
    }
   },
   "outputs": [
    {
     "name": "stdout",
     "output_type": "stream",
     "text": [
      "hhhhhhhhhhhhhhhhhhhh\n"
     ]
    }
   ],
   "source": [
    "print('h' * 20)"
   ]
  },
  {
   "cell_type": "code",
   "execution_count": 1,
   "id": "4a177938eada9b0b",
   "metadata": {
    "ExecuteTime": {
     "end_time": "2025-05-05T09:01:41.145271Z",
     "start_time": "2025-05-05T09:01:41.139272Z"
    }
   },
   "outputs": [
    {
     "name": "stdout",
     "output_type": "stream",
     "text": [
      "['apple', 'banana', 'orange', 'mango', 'grapes']\n"
     ]
    }
   ],
   "source": [
    "fruits = [\"apple\", \"banana\", \"orange\", \"mango\"]\n",
    "fruits.append(\"grapes\")\n",
    "print(fruits)"
   ]
  },
  {
   "cell_type": "code",
   "execution_count": 2,
   "id": "e4e000428c4ee998",
   "metadata": {
    "ExecuteTime": {
     "end_time": "2025-05-05T09:03:57.411842Z",
     "start_time": "2025-05-05T09:03:57.406687Z"
    }
   },
   "outputs": [
    {
     "name": "stdout",
     "output_type": "stream",
     "text": [
      "[1, 2, 3, 4, 5]\n"
     ]
    }
   ],
   "source": [
    "my_list = [1, 2, 3, 4, 5]\n",
    "new_list = my_list.copy()\n",
    "\"\"\"\"\n",
    "Multiple line comments\n",
    "Triple quotes\n",
    "\"\"\"\n",
    "print(new_list)\n",
    "# Output: [1, 2, 3, 4, 5]"
   ]
  },
  {
   "cell_type": "code",
   "execution_count": 1,
   "id": "cb35d0595ca0aba5",
   "metadata": {
    "ExecuteTime": {
     "end_time": "2025-05-05T10:09:04.592937Z",
     "start_time": "2025-05-05T10:09:04.588969Z"
    }
   },
   "outputs": [
    {
     "name": "stdout",
     "output_type": "stream",
     "text": [
      "None\n"
     ]
    }
   ],
   "source": [
    "def nothing():\n",
    "    pass\n",
    "print(nothing())"
   ]
  },
  {
   "cell_type": "code",
   "execution_count": 3,
   "id": "ca476dcc2722945b",
   "metadata": {
    "ExecuteTime": {
     "end_time": "2025-05-05T10:24:25.733610Z",
     "start_time": "2025-05-05T10:24:25.730616Z"
    }
   },
   "outputs": [
    {
     "name": "stdout",
     "output_type": "stream",
     "text": [
      "12\n"
     ]
    }
   ],
   "source": [
    "def calculate_total(a, b):  # Parameters: a and b\n",
    "    total = a + b           # Task: Addition\n",
    "    return total            # Output: Sum of a and b\n",
    "\n",
    "result = calculate_total(5, 7)  # Calling the function with inputs 5 and 7\n",
    "print(result)  # Output: 12"
   ]
  },
  {
   "cell_type": "code",
   "execution_count": 5,
   "id": "b5910b3513c3da15",
   "metadata": {
    "ExecuteTime": {
     "end_time": "2025-05-05T11:12:38.939837Z",
     "start_time": "2025-05-05T11:12:38.935906Z"
    }
   },
   "outputs": [
    {
     "name": "stdout",
     "output_type": "stream",
     "text": [
      "5\n"
     ]
    }
   ],
   "source": [
    "string_length = len(\"Hello, World!\")  # Output: 13\n",
    "list_length = len([1, 2, 3, 4, 5])   # Output: 5\n",
    "print(list_length)"
   ]
  },
  {
   "cell_type": "code",
   "execution_count": 4,
   "id": "41774c8785e00947",
   "metadata": {},
   "outputs": [
    {
     "name": "stdout",
     "output_type": "stream",
     "text": [
      "   A  B  C\n",
      "0  1  3  5\n",
      "1  2  4  6\n",
      "2  7  8  0\n"
     ]
    }
   ],
   "source": [
    "import pandas as pd\n",
    "\n",
    "# Create DataFrames\n",
    "df1 = pd.DataFrame({'A': [1, 2], 'B': [3, 4],'C':[5, 6]})\n",
    "df2 = pd.DataFrame({'A': [7], 'B': [8],'C':[0]})\n",
    "\n",
    "# Use concat\n",
    "result = pd.concat([df1, df2], ignore_index=True)\n",
    "print(result)"
   ]
  },
  {
   "cell_type": "code",
   "execution_count": null,
   "id": "bdbdcfc4",
   "metadata": {},
   "outputs": [],
   "source": []
  }
 ],
 "metadata": {
  "kernelspec": {
   "display_name": ".venv",
   "language": "python",
   "name": "python3"
  },
  "language_info": {
   "codemirror_mode": {
    "name": "ipython",
    "version": 3
   },
   "file_extension": ".py",
   "mimetype": "text/x-python",
   "name": "python",
   "nbconvert_exporter": "python",
   "pygments_lexer": "ipython3",
   "version": "3.13.3"
  }
 },
 "nbformat": 4,
 "nbformat_minor": 5
}
