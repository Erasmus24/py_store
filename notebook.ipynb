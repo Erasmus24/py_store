{
 "cells": [
  {
   "metadata": {},
   "cell_type": "markdown",
   "source": [
    "# This is a sample Jupyter Notebook\n",
    "\n",
    "Below is an example of a code cell. \n",
    "Put your cursor into the cell and press Shift+Enter to execute it and select the next one, or click 'Run Cell' button.\n",
    "\n",
    "Press Double Shift to search everywhere for classes, files, tool windows, actions, and settings.\n",
    "\n",
    "To learn more about Jupyter Notebooks in PyCharm, see [help](https://www.jetbrains.com/help/pycharm/ipython-notebook-support.html).\n",
    "For an overview of PyCharm, go to Help -> Learn IDE features or refer to [our documentation](https://www.jetbrains.com/help/pycharm/getting-started.html)."
   ],
   "id": "8a77807f92f26ee"
  },
  {
   "metadata": {
    "ExecuteTime": {
     "end_time": "2025-04-22T13:11:41.024490Z",
     "start_time": "2025-04-22T13:11:41.016718Z"
    }
   },
   "cell_type": "code",
   "source": "print(\"Hello World!\")\n",
   "id": "fbc121e30a2defb3",
   "outputs": [
    {
     "name": "stdout",
     "output_type": "stream",
     "text": [
      "Hello World!\n"
     ]
    }
   ],
   "execution_count": 1
  },
  {
   "metadata": {
    "ExecuteTime": {
     "end_time": "2025-04-22T13:12:01.956879Z",
     "start_time": "2025-04-22T13:12:01.953653Z"
    }
   },
   "cell_type": "code",
   "source": "print('hello there')",
   "id": "e5ccac92106d6602",
   "outputs": [
    {
     "name": "stdout",
     "output_type": "stream",
     "text": [
      "hello there\n"
     ]
    }
   ],
   "execution_count": 2
  },
  {
   "metadata": {
    "ExecuteTime": {
     "end_time": "2025-04-22T13:12:38.975690Z",
     "start_time": "2025-04-22T13:12:38.972715Z"
    }
   },
   "cell_type": "code",
   "source": "print('h' * 20)",
   "id": "8ef6254905bb945a",
   "outputs": [
    {
     "name": "stdout",
     "output_type": "stream",
     "text": [
      "hhhhhhhhhhhhhhhhhhhh\n"
     ]
    }
   ],
   "execution_count": 3
  },
  {
   "metadata": {
    "ExecuteTime": {
     "end_time": "2025-05-05T09:01:41.145271Z",
     "start_time": "2025-05-05T09:01:41.139272Z"
    }
   },
   "cell_type": "code",
   "source": [
    "fruits = [\"apple\", \"banana\", \"orange\", \"mango\"]\n",
    "fruits.append(\"grapes\")\n",
    "print(fruits)"
   ],
   "id": "4a177938eada9b0b",
   "outputs": [
    {
     "name": "stdout",
     "output_type": "stream",
     "text": [
      "['apple', 'banana', 'orange', 'mango', 'grapes']\n"
     ]
    }
   ],
   "execution_count": 1
  },
  {
   "metadata": {
    "ExecuteTime": {
     "end_time": "2025-05-05T09:03:57.411842Z",
     "start_time": "2025-05-05T09:03:57.406687Z"
    }
   },
   "cell_type": "code",
   "source": [
    "my_list = [1, 2, 3, 4, 5]\n",
    "new_list = my_list.copy()\n",
    "\"\"\"\"\n",
    "Multiple line comments\n",
    "Triple quotes\n",
    "\"\"\"\n",
    "print(new_list)\n",
    "# Output: [1, 2, 3, 4, 5]"
   ],
   "id": "e4e000428c4ee998",
   "outputs": [
    {
     "name": "stdout",
     "output_type": "stream",
     "text": [
      "[1, 2, 3, 4, 5]\n"
     ]
    }
   ],
   "execution_count": 2
  },
  {
   "metadata": {
    "ExecuteTime": {
     "end_time": "2025-05-05T10:09:04.592937Z",
     "start_time": "2025-05-05T10:09:04.588969Z"
    }
   },
   "cell_type": "code",
   "source": [
    "def nothing():\n",
    "    pass\n",
    "print(nothing())"
   ],
   "id": "cb35d0595ca0aba5",
   "outputs": [
    {
     "name": "stdout",
     "output_type": "stream",
     "text": [
      "None\n"
     ]
    }
   ],
   "execution_count": 1
  },
  {
   "metadata": {
    "ExecuteTime": {
     "end_time": "2025-05-05T10:24:25.733610Z",
     "start_time": "2025-05-05T10:24:25.730616Z"
    }
   },
   "cell_type": "code",
   "source": [
    "def calculate_total(a, b):  # Parameters: a and b\n",
    "    total = a + b           # Task: Addition\n",
    "    return total            # Output: Sum of a and b\n",
    "\n",
    "result = calculate_total(5, 7)  # Calling the function with inputs 5 and 7\n",
    "print(result)  # Output: 12"
   ],
   "id": "ca476dcc2722945b",
   "outputs": [
    {
     "name": "stdout",
     "output_type": "stream",
     "text": [
      "12\n"
     ]
    }
   ],
   "execution_count": 3
  },
  {
   "metadata": {
    "ExecuteTime": {
     "end_time": "2025-05-05T11:12:38.939837Z",
     "start_time": "2025-05-05T11:12:38.935906Z"
    }
   },
   "cell_type": "code",
   "source": [
    "string_length = len(\"Hello, World!\")  # Output: 13\n",
    "list_length = len([1, 2, 3, 4, 5])   # Output: 5\n",
    "print(list_length)"
   ],
   "id": "b5910b3513c3da15",
   "outputs": [
    {
     "name": "stdout",
     "output_type": "stream",
     "text": [
      "5\n"
     ]
    }
   ],
   "execution_count": 5
  },
  {
   "metadata": {},
   "cell_type": "code",
   "outputs": [],
   "execution_count": null,
   "source": "",
   "id": "41774c8785e00947"
  }
 ],
 "metadata": {
  "kernelspec": {
   "display_name": "Python 3",
   "language": "python",
   "name": "python3"
  },
  "language_info": {
   "codemirror_mode": {
    "name": "ipython",
    "version": 2
   },
   "file_extension": ".py",
   "mimetype": "text/x-python",
   "name": "python",
   "nbconvert_exporter": "python",
   "pygments_lexer": "ipython2",
   "version": "2.7.6"
  }
 },
 "nbformat": 4,
 "nbformat_minor": 5
}
